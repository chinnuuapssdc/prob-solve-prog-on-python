{
 "cells": [
  {
   "cell_type": "markdown",
   "metadata": {},
   "source": [
    "#### PROBLEM SOLVING AND PROGRAMMING IN PYTHON\n",
    "\n",
    "#### DATE- 14 JUNE 2019\n",
    "\n",
    "#### Day objectives\n",
    "- python data structures\n",
    "   - lists\n",
    "   - tuples\n",
    "   - dictionaries\n",
    "- basic problem set on data structures\n",
    "- advanced problem set\n",
    "- packages in modules in python"
   ]
  },
  {
   "cell_type": "markdown",
   "metadata": {},
   "source": [
    "### PYTHON DATA STRUCTURES\n",
    "\n",
    "- LISTS"
   ]
  },
  {
   "cell_type": "code",
   "execution_count": 1,
   "metadata": {},
   "outputs": [
    {
     "data": {
      "text/plain": [
       "[123, 978, 654]"
      ]
     },
     "execution_count": 1,
     "metadata": {},
     "output_type": "execute_result"
    }
   ],
   "source": [
    "li = [123, 978, 654]  #initiating list\n",
    "\n",
    "li    #accessing the list"
   ]
  },
  {
   "cell_type": "code",
   "execution_count": 2,
   "metadata": {},
   "outputs": [
    {
     "data": {
      "text/plain": [
       "978"
      ]
     },
     "execution_count": 2,
     "metadata": {},
     "output_type": "execute_result"
    }
   ],
   "source": [
    "li = [123, 978, 654]  #initiating list\n",
    "\n",
    "li[1]   #accessing the 2nd element with index"
   ]
  },
  {
   "cell_type": "code",
   "execution_count": 3,
   "metadata": {},
   "outputs": [
    {
     "data": {
      "text/plain": [
       "[978, 654]"
      ]
     },
     "execution_count": 3,
     "metadata": {},
     "output_type": "execute_result"
    }
   ],
   "source": [
    "li = [123, 978, 654]  #initiating list\n",
    "\n",
    "li[1:]   #accessing the last two element with index"
   ]
  },
  {
   "cell_type": "code",
   "execution_count": 4,
   "metadata": {},
   "outputs": [
    {
     "data": {
      "text/plain": [
       "[654, 978, 123]"
      ]
     },
     "execution_count": 4,
     "metadata": {},
     "output_type": "execute_result"
    }
   ],
   "source": [
    "li = [123, 978, 654]  #initiating list\n",
    "\n",
    "li[::-1]   #accessing the elements in reverse order"
   ]
  },
  {
   "cell_type": "code",
   "execution_count": 6,
   "metadata": {},
   "outputs": [
    {
     "data": {
      "text/plain": [
       "[654, 978, 123]"
      ]
     },
     "execution_count": 6,
     "metadata": {},
     "output_type": "execute_result"
    }
   ],
   "source": [
    "li = [123, 978, 654]  #initiating list\n",
    "\n",
    "li = li[::-1]   #accessing the elements in reverse order and replace li with reverse order\n",
    "\n",
    "li"
   ]
  },
  {
   "cell_type": "code",
   "execution_count": 7,
   "metadata": {},
   "outputs": [
    {
     "data": {
      "text/plain": [
       "[123, 978, 654]"
      ]
     },
     "execution_count": 7,
     "metadata": {},
     "output_type": "execute_result"
    }
   ],
   "source": [
    "\n",
    "\n",
    "li = li[::-1]   #accessing the elements in original way with replacement of reverse order\n",
    "\n",
    "li"
   ]
  },
  {
   "cell_type": "code",
   "execution_count": 8,
   "metadata": {},
   "outputs": [
    {
     "data": {
      "text/plain": [
       "[123, 654]"
      ]
     },
     "execution_count": 8,
     "metadata": {},
     "output_type": "execute_result"
    }
   ],
   "source": [
    "li = [123, 978, 654]  #initiating list\n",
    "\n",
    "li[::2]   #accessing the even index elements"
   ]
  },
  {
   "cell_type": "code",
   "execution_count": 9,
   "metadata": {},
   "outputs": [
    {
     "data": {
      "text/plain": [
       "[978]"
      ]
     },
     "execution_count": 9,
     "metadata": {},
     "output_type": "execute_result"
    }
   ],
   "source": [
    "li = [123, 978, 654]  #initiating list\n",
    "\n",
    "li[1::2]    #accessing the odd index elements"
   ]
  },
  {
   "cell_type": "markdown",
   "metadata": {},
   "source": [
    "## data manupulation\n",
    "\n",
    "- lists can be accesed , manupulated in two different ways\n",
    "    - direct referencing   - [index]\n",
    "    - indirect referencing - throgh functions"
   ]
  },
  {
   "cell_type": "code",
   "execution_count": 10,
   "metadata": {},
   "outputs": [
    {
     "data": {
      "text/plain": [
       "[123, 978, 654, 345]"
      ]
     },
     "execution_count": 10,
     "metadata": {},
     "output_type": "execute_result"
    }
   ],
   "source": [
    "li.append(345)     # aading an element to end of the list\n",
    "\n",
    "li"
   ]
  },
  {
   "cell_type": "code",
   "execution_count": 11,
   "metadata": {},
   "outputs": [
    {
     "data": {
      "text/plain": [
       "[123, 234, 978, 654, 345]"
      ]
     },
     "execution_count": 11,
     "metadata": {},
     "output_type": "execute_result"
    }
   ],
   "source": [
    "li.insert(1, 234)   #adding element at a particular index\n",
    "\n",
    "li"
   ]
  },
  {
   "cell_type": "code",
   "execution_count": 12,
   "metadata": {},
   "outputs": [
    {
     "data": {
      "text/plain": [
       "[123, 234, 345, 654, 978]"
      ]
     },
     "execution_count": 12,
     "metadata": {},
     "output_type": "execute_result"
    }
   ],
   "source": [
    "li.sort()   #sorting all elements in assending order\n",
    "\n",
    "li"
   ]
  },
  {
   "cell_type": "code",
   "execution_count": 13,
   "metadata": {},
   "outputs": [
    {
     "data": {
      "text/plain": [
       "[123, 234, 345, 654]"
      ]
     },
     "execution_count": 13,
     "metadata": {},
     "output_type": "execute_result"
    }
   ],
   "source": [
    "li.pop()   #remove the last element in list\n",
    "\n",
    "li"
   ]
  },
  {
   "cell_type": "code",
   "execution_count": 14,
   "metadata": {},
   "outputs": [
    {
     "data": {
      "text/plain": [
       "[123, 345, 654]"
      ]
     },
     "execution_count": 14,
     "metadata": {},
     "output_type": "execute_result"
    }
   ],
   "source": [
    "li.pop(1)  # remove an element at particular index\n",
    "\n",
    "li\n"
   ]
  },
  {
   "cell_type": "code",
   "execution_count": 18,
   "metadata": {},
   "outputs": [
    {
     "data": {
      "text/plain": [
       "[123, 345, 654, 234, 456, 789]"
      ]
     },
     "execution_count": 18,
     "metadata": {},
     "output_type": "execute_result"
    }
   ],
   "source": [
    "li2 = [234, 456, 789]\n",
    "\n",
    "li.extend(li2) #merge list 2 into list 1\n",
    " \n",
    "li"
   ]
  },
  {
   "cell_type": "code",
   "execution_count": 19,
   "metadata": {},
   "outputs": [
    {
     "data": {
      "text/plain": [
       "2601"
      ]
     },
     "execution_count": 19,
     "metadata": {},
     "output_type": "execute_result"
    }
   ],
   "source": [
    "sum(li)    #sum of list"
   ]
  },
  {
   "cell_type": "code",
   "execution_count": 20,
   "metadata": {},
   "outputs": [
    {
     "data": {
      "text/plain": [
       "789"
      ]
     },
     "execution_count": 20,
     "metadata": {},
     "output_type": "execute_result"
    }
   ],
   "source": [
    "max(li)  #max numbered element in index"
   ]
  },
  {
   "cell_type": "code",
   "execution_count": 21,
   "metadata": {},
   "outputs": [
    {
     "data": {
      "text/plain": [
       "6"
      ]
     },
     "execution_count": 21,
     "metadata": {},
     "output_type": "execute_result"
    }
   ],
   "source": [
    "len(li)  #length of list\n"
   ]
  },
  {
   "cell_type": "code",
   "execution_count": 24,
   "metadata": {},
   "outputs": [
    {
     "data": {
      "text/plain": [
       "433.5"
      ]
     },
     "execution_count": 24,
     "metadata": {},
     "output_type": "execute_result"
    }
   ],
   "source": [
    "#average of elements in a list\n",
    "\n",
    "sum(li)/len(li)"
   ]
  },
  {
   "cell_type": "code",
   "execution_count": 29,
   "metadata": {},
   "outputs": [
    {
     "data": {
      "text/plain": [
       "456.0"
      ]
     },
     "execution_count": 29,
     "metadata": {},
     "output_type": "execute_result"
    }
   ],
   "source": [
    "# average of all alternate elements\n",
    "\n",
    "sum(li[1::2])/len(li[1::2])\n"
   ]
  },
  {
   "cell_type": "code",
   "execution_count": 56,
   "metadata": {},
   "outputs": [
    {
     "data": {
      "text/plain": [
       "654"
      ]
     },
     "execution_count": 56,
     "metadata": {},
     "output_type": "execute_result"
    }
   ],
   "source": [
    "#function to identify the second largest element # sort the data and select the second largest element\n",
    "\n",
    "def secondlargest(li):\n",
    "    li.sort()\n",
    "    return li[-2]\n",
    "\n",
    "\n",
    "secondlargest(li)"
   ]
  },
  {
   "cell_type": "code",
   "execution_count": 42,
   "metadata": {},
   "outputs": [
    {
     "name": "stdout",
     "output_type": "stream",
     "text": [
      "345\n"
     ]
    }
   ],
   "source": [
    "#function to identify the second largest element # sort the data and select the second largest element\n",
    "\n",
    "def secondlargest(li):\n",
    "    li.sort()\n",
    "    print(li[-2])\n",
    "    return\n",
    "secondlargest([123, 345, 789])\n",
    "\n"
   ]
  },
  {
   "cell_type": "code",
   "execution_count": 60,
   "metadata": {},
   "outputs": [
    {
     "data": {
      "text/plain": [
       "345"
      ]
     },
     "execution_count": 60,
     "metadata": {},
     "output_type": "execute_result"
    }
   ],
   "source": [
    "def genericlargest(li,n):\n",
    "    li.sort()\n",
    "    return li[-n]\n",
    "genericlargest(li,4)\n"
   ]
  },
  {
   "cell_type": "code",
   "execution_count": 54,
   "metadata": {},
   "outputs": [
    {
     "name": "stdout",
     "output_type": "stream",
     "text": [
      "789\n"
     ]
    }
   ],
   "source": [
    "def genericlargest(li,n):\n",
    "    li.sort()\n",
    "    print(li[n])\n",
    "    return\n",
    "genericlargest([123, 345, 789],2)\n",
    "\n"
   ]
  },
  {
   "cell_type": "code",
   "execution_count": null,
   "metadata": {},
   "outputs": [],
   "source": [
    "#function to identify the second largest element # select the data in reverse ordder, and select the second element\n",
    "\n"
   ]
  },
  {
   "cell_type": "code",
   "execution_count": null,
   "metadata": {},
   "outputs": [],
   "source": [
    "#function to identify the second largest element # remove the max element and then get max of the index\n",
    "\n"
   ]
  },
  {
   "cell_type": "code",
   "execution_count": 62,
   "metadata": {},
   "outputs": [
    {
     "data": {
      "text/plain": [
       "2"
      ]
     },
     "execution_count": 62,
     "metadata": {},
     "output_type": "execute_result"
    }
   ],
   "source": [
    "# function to search for data in a list\n",
    "# search for the key in the list and return the index of the key, return \n",
    "\n",
    "def linearsearch(li,key):\n",
    "    for index in range(0, len(li)):\n",
    "        if li[index] == key:\n",
    "            return index\n",
    "    return -1    \n",
    "linearsearch(li,345)\n",
    "    \n"
   ]
  },
  {
   "cell_type": "code",
   "execution_count": 63,
   "metadata": {},
   "outputs": [
    {
     "data": {
      "text/plain": [
       "3"
      ]
     },
     "execution_count": 63,
     "metadata": {},
     "output_type": "execute_result"
    }
   ],
   "source": [
    "# function to search for data in a list\n",
    "# search for the key in the list and return the index of the key, return position of the element\n",
    "\n",
    "def linearsearch(li,key):\n",
    "    for index in range(0, len(li)):\n",
    "        if li[index] == key:\n",
    "            return index+1\n",
    "    return -1    \n",
    "linearsearch(li,345)\n",
    "    "
   ]
  },
  {
   "cell_type": "code",
   "execution_count": 64,
   "metadata": {},
   "outputs": [
    {
     "data": {
      "text/plain": [
       "2"
      ]
     },
     "execution_count": 64,
     "metadata": {},
     "output_type": "execute_result"
    }
   ],
   "source": [
    "# function to search for data in a list\n",
    "# search for the key in the list and return the index of the key, return ##2nd method\n",
    "\n",
    "def linearsearch(li,key):\n",
    "    for element in li:\n",
    "        if element == key:\n",
    "            return li.index(element)\n",
    "    return -1    \n",
    "linearsearch(li,345)\n",
    "    "
   ]
  },
  {
   "cell_type": "code",
   "execution_count": 67,
   "metadata": {},
   "outputs": [
    {
     "data": {
      "text/plain": [
       "5"
      ]
     },
     "execution_count": 67,
     "metadata": {},
     "output_type": "execute_result"
    }
   ],
   "source": [
    "# function to search for data in a list  #3rd method\n",
    "def linearsearch(li,key):\n",
    "    if key in li:\n",
    "        return li.index(key)\n",
    "    return -1\n",
    "\n",
    "linearsearch(li,789)\n",
    "    \n",
    "    "
   ]
  },
  {
   "cell_type": "code",
   "execution_count": 5,
   "metadata": {},
   "outputs": [
    {
     "name": "stdout",
     "output_type": "stream",
     "text": [
      "-1\n"
     ]
    }
   ],
   "source": [
    "#big sum\n",
    "#explanation\n",
    "# - li - list of numbers [3, 2 -3 -2 1]\n",
    "# li = [-3 -2 -1 2 3]- sort the data\n",
    "# pl = [1,2,2,3,3] (all numbers converted into posituve values) \n",
    "# pl[0]  check if this number is -ve or +ve in the \n",
    "# if p[0] in li:\n",
    "# return p1[0]\n",
    "# else \n",
    "  # - return -p[o]\n",
    "    \n",
    "li = [-1, -2, 2, 3]\n",
    "li.sort()\n",
    "pl = []\n",
    "\n",
    "for i in li:\n",
    "    pl.append(abs(i))\n",
    "pl.sort()\n",
    "if pl[0] in li:\n",
    "    print(pl[0])\n",
    "else:\n",
    "    print(-pl[0])"
   ]
  },
  {
   "cell_type": "code",
   "execution_count": 6,
   "metadata": {},
   "outputs": [
    {
     "name": "stdout",
     "output_type": "stream",
     "text": [
      "-1\n"
     ]
    }
   ],
   "source": [
    "#print the number with lesser value\n",
    "\n",
    "li = [-1, -2, 2, 3]\n",
    "li.sort()\n",
    "pl = []\n",
    "\n",
    "for i in li:\n",
    "    pl.append(abs(i))\n",
    "pl.sort()\n",
    "if -pl[0] in li:\n",
    "    print(-pl[0])\n",
    "else:\n",
    "    print(pl[0])"
   ]
  },
  {
   "cell_type": "code",
   "execution_count": 10,
   "metadata": {},
   "outputs": [
    {
     "name": "stdout",
     "output_type": "stream",
     "text": [
      "-400\n"
     ]
    }
   ],
   "source": [
    "\n",
    "li = [-1, -2, 2, 300, -400]\n",
    "li.sort()\n",
    "pl = []\n",
    "\n",
    "for i in li:\n",
    "    pl.append(abs(i))\n",
    "pl.sort()\n",
    "if pl[-1] in li:\n",
    "    print(pl[-1])\n",
    "else:\n",
    "    print(-pl[-1])"
   ]
  },
  {
   "cell_type": "code",
   "execution_count": 19,
   "metadata": {},
   "outputs": [
    {
     "data": {
      "text/plain": [
       "-1"
      ]
     },
     "execution_count": 19,
     "metadata": {},
     "output_type": "execute_result"
    }
   ],
   "source": [
    "# you are given 3 numbers a,b,c\n",
    "# find largest number\n",
    "# which is less than or equal to c and leave\n",
    "#reminder b when divided by a.\n",
    "\n",
    "# 3 2 9\n",
    "# 9 % 3 == 0\n",
    "# 8 % 3 == 2\n",
    "\n",
    "#1 2 4 \n",
    "# 4 % 1 == 0\n",
    "# 3 % 1 == 0\n",
    "# 2 % 1 == 0\n",
    "# 1 % 1 == 0\n",
    "#-1 % 1 == 0\n",
    "\n",
    "\n",
    "def cal(a, b, c):\n",
    "    for i in range (c, a-1, -1):\n",
    "        if i  % a == b:\n",
    "            return i\n",
    "    return -1\n",
    "cal(1, 5, 100)"
   ]
  },
  {
   "cell_type": "code",
   "execution_count": 20,
   "metadata": {},
   "outputs": [
    {
     "data": {
      "text/plain": [
       "8"
      ]
     },
     "execution_count": 20,
     "metadata": {},
     "output_type": "execute_result"
    }
   ],
   "source": [
    "\n",
    "def cal(a, b, c):\n",
    "    for i in range (c, a-1, -1):  #c for highest range c-1, ..... a-1 for stopping the loop, -1 for decrement )\n",
    "        if i  % a == b:\n",
    "            return i\n",
    "    return -1\n",
    "cal(3, 2, 9)"
   ]
  },
  {
   "cell_type": "code",
   "execution_count": null,
   "metadata": {},
   "outputs": [],
   "source": [
    "# sum of squares of n numbers\n",
    "\n",
    "def sumof(n):\n",
    "    count = 0\n",
    "    s = 0\n",
    "    for i in range (i, n+1):\n",
    "        count = i**2\n",
    "        s = s + count\n",
    "    print(s)\n",
    "    \n",
    "n=int(input())\n",
    "sumof(n)"
   ]
  },
  {
   "cell_type": "markdown",
   "metadata": {},
   "source": [
    "# problem on duration\n",
    "\n",
    "- input: statrt time, end time (HH MM)\n",
    "         HH - (00, 23) - (00 00, 23 59)\n",
    "         MM - (00, 59) \n",
    "         HH MM - (00 00, 23 59)\n",
    "- output: time difference in HH MM\n",
    "\n",
    "\n",
    "\n"
   ]
  },
  {
   "cell_type": "code",
   "execution_count": 10,
   "metadata": {},
   "outputs": [
    {
     "name": "stdout",
     "output_type": "stream",
     "text": [
      "0 30\n"
     ]
    }
   ],
   "source": [
    "#calculate the time difference as total number of \n",
    "\n",
    "s = \"1 44 2 14\"\n",
    "def mindiffer(s):\n",
    "    s = s.split()\n",
    "    sh = int(s[0])\n",
    "    sm = int(s[1])\n",
    "    eh = int(s[2])\n",
    "    em = int(s[3])\n",
    "    startminutes = (sh * 60) + sm\n",
    "    endminutes = (eh * 60) + em\n",
    "    return endminutes - startminutes\n",
    "def outputTimeFormat(minutes):\n",
    "    #converts minutes to hours\n",
    "    hh = minutes // 60\n",
    "    mm = minutes % 60\n",
    "    print(hh,mm)\n",
    "    return\n",
    "minutes = mindiffer(s)\n",
    "outputTimeFormat(minutes)"
   ]
  },
  {
   "cell_type": "markdown",
   "metadata": {},
   "source": [
    "### problem: play with number\n",
    "\n",
    "line 1: array size, no of quaries(q)\n",
    "line 2: n array elements\n",
    "next q lines : query - sub array of the original array\n",
    "\n",
    "- 5 3 \n",
    "- 1 2 3 4 5\n",
    "- 1 3\n",
    "- 2 4\n",
    "- 2 5"
   ]
  },
  {
   "cell_type": "code",
   "execution_count": null,
   "metadata": {},
   "outputs": [],
   "source": [
    "#read no.of array elements and quarries\n",
    "n = input().split()\n",
    "n[0], n[1] = int(n[0]),int(n[1])\n",
    "a = input().split() # Read array elements\n",
    "sum = [] # Initialize comulative sum array\n",
    "# Comulative sum\n",
    "for i in range(0, n[0]):\n",
    "    if i == 0:\n",
    "        sum.append(int(a[i]))\n",
    "    else:\n",
    "        sum.append(int(sum[i-1])+int(a[i]))\n",
    "del a\n",
    "# Read each query and calculate the average\n",
    "for k in range(0, n[1]):\n",
    "    inq = input().split()\n",
    "    i = int(inq[0])\n",
    "    j = int(inq[1])\n",
    "    if i>1:\n",
    "        print((sum[j-1]-sum[i-2])// (j-i+1))\n",
    "    else:\n",
    "        print(sum[j-1]//(j-i+1))\n",
    "\n"
   ]
  },
  {
   "cell_type": "markdown",
   "metadata": {},
   "source": [
    "# char sum"
   ]
  },
  {
   "cell_type": "code",
   "execution_count": 11,
   "metadata": {},
   "outputs": [
    {
     "name": "stdout",
     "output_type": "stream",
     "text": [
      " aba\n",
      "4\n"
     ]
    }
   ],
   "source": [
    "def char(s):\n",
    "    sum=0\n",
    "    for i in range (0,len(s)):\n",
    "        if s>=chr(97) and s<=chr(122):\n",
    "            sum = sum+(ord(s[i])-96)\n",
    "    print(sum)\n",
    "s=input(\" \")\n",
    "char(s)"
   ]
  },
  {
   "cell_type": "markdown",
   "metadata": {},
   "source": [
    "# prime number"
   ]
  },
  {
   "cell_type": "code",
   "execution_count": 13,
   "metadata": {},
   "outputs": [
    {
     "name": "stdout",
     "output_type": "stream",
     "text": [
      "9\n",
      "2 3 5 7 "
     ]
    }
   ],
   "source": [
    "def prime(n):\n",
    "    for num in range(2, n + 1):\n",
    "            for i in range(2, num):\n",
    "                if (num % i) == 0:\n",
    "                    break\n",
    "            else:\n",
    "                 print(num, end=\" \")\n",
    "    return\n",
    "num = int(input())\n",
    "prime(num)"
   ]
  },
  {
   "cell_type": "markdown",
   "metadata": {},
   "source": [
    "# palidrome"
   ]
  },
  {
   "cell_type": "code",
   "execution_count": 14,
   "metadata": {},
   "outputs": [
    {
     "name": "stdout",
     "output_type": "stream",
     "text": [
      "racecar\n",
      "YES\n"
     ]
    }
   ],
   "source": [
    "def palindrome(st):\n",
    "    sl=st[::-1]\n",
    "    if sl==st:\n",
    "        print(\"YES\")\n",
    "    else:\n",
    "        print(\"NO\")\n",
    "        \n",
    "st=input()\n",
    "palindrome(st)"
   ]
  },
  {
   "cell_type": "markdown",
   "metadata": {},
   "source": [
    "# counrt divisiors"
   ]
  },
  {
   "cell_type": "code",
   "execution_count": 16,
   "metadata": {},
   "outputs": [
    {
     "name": "stdout",
     "output_type": "stream",
     "text": [
      "1 10 1\n",
      "10\n"
     ]
    }
   ],
   "source": [
    "def countDevisors(g, j, k): \n",
    "    count = 0\n",
    "    for i in range (g, j+1):\n",
    "\n",
    "        if i % k  == 0:\n",
    "            count = count + 1\n",
    "    print(count)\n",
    "    return\n",
    "s = input()\n",
    "s = s.split()\n",
    "g = int(s[0])\n",
    "j = int(s[1])\n",
    "k = int(s[2])\n",
    "countDevisors(g, j, k)"
   ]
  },
  {
   "cell_type": "markdown",
   "metadata": {},
   "source": [
    "# factorial"
   ]
  },
  {
   "cell_type": "code",
   "execution_count": 17,
   "metadata": {},
   "outputs": [
    {
     "name": "stdout",
     "output_type": "stream",
     "text": [
      "7\n",
      "5040\n"
     ]
    }
   ],
   "source": [
    "def fact(n):\n",
    "    fact = 1\n",
    "    for i in range (1,n+1):\n",
    "        fact = fact*i\n",
    "    print(fact)\n",
    "    return\n",
    "n=int(input())\n",
    "fact(n)"
   ]
  },
  {
   "cell_type": "markdown",
   "metadata": {},
   "source": [
    "# toggle string"
   ]
  },
  {
   "cell_type": "code",
   "execution_count": 18,
   "metadata": {},
   "outputs": [
    {
     "name": "stdout",
     "output_type": "stream",
     "text": [
      "ASfg\n",
      "asFG"
     ]
    }
   ],
   "source": [
    "def toggle(s):\n",
    "    for i in s:\n",
    "        if i == i.upper():\n",
    "            n = i.lower()\n",
    "        elif i == i.lower():\n",
    "            n = i.upper()\n",
    "        print(n, end = \"\")\n",
    "s = input()\n",
    "toggle(s)\n"
   ]
  },
  {
   "cell_type": "markdown",
   "metadata": {},
   "source": [
    "# two strings"
   ]
  },
  {
   "cell_type": "code",
   "execution_count": null,
   "metadata": {},
   "outputs": [
    {
     "name": "stdout",
     "output_type": "stream",
     "text": [
      "3\n"
     ]
    }
   ],
   "source": [
    "# Function to compare \n",
    "def twoStrings(s1,s2):\n",
    "    s1=sorted(s1)\n",
    "    s2=sorted(s2)\n",
    "    if s1==s2:\n",
    "        print(\"YES\")\n",
    "    else:\n",
    "        print(\"NO\")\n",
    "    \n",
    "s=int(input())\n",
    "for i in range(s):\n",
    "    s1=input()\n",
    "    l=s1.split()\n",
    "    twoStrings(l[0],l[1])"
   ]
  },
  {
   "cell_type": "code",
   "execution_count": 4,
   "metadata": {},
   "outputs": [
    {
     "name": "stdout",
     "output_type": "stream",
     "text": [
      "shamee\n",
      "['a', 'e', 'e', 'h', 'm', 's']\n"
     ]
    }
   ],
   "source": [
    "s1=input()\n",
    "s1=sorted(s1)\n",
    "print(s1)"
   ]
  },
  {
   "cell_type": "markdown",
   "metadata": {},
   "source": [
    "# perfect number"
   ]
  },
  {
   "cell_type": "code",
   "execution_count": 3,
   "metadata": {},
   "outputs": [
    {
     "name": "stdout",
     "output_type": "stream",
     "text": [
      "28\n",
      "6\n"
     ]
    }
   ],
   "source": [
    "def perfect(n):\n",
    "    sum=0\n",
    "    for i in range(1,n):\n",
    "        if n%i == 0:\n",
    "            sum=sum+i\n",
    "    if sum==n:\n",
    "        return True\n",
    "    return False\n",
    "def generateperfect(num):\n",
    "    for n in range(1, num):\n",
    "        if perfect(n):\n",
    "            print(n)\n",
    "    return\n",
    "num=int(input())\n",
    "generateperfect(num)    \n"
   ]
  },
  {
   "cell_type": "markdown",
   "metadata": {},
   "source": [
    "# count letters and numbers"
   ]
  },
  {
   "cell_type": "code",
   "execution_count": 8,
   "metadata": {},
   "outputs": [
    {
     "name": "stdout",
     "output_type": "stream",
     "text": [
      "1132nkjfblbmkgfm898\n",
      "7\n",
      "12\n"
     ]
    }
   ],
   "source": [
    "def countletters(s):\n",
    "    count1=0\n",
    "    count2=0\n",
    "    for i in s:\n",
    "        if (i.isdigit()):\n",
    "            count1=count1+1\n",
    "        elif(i.isalpha()):\n",
    "            count2=count2+1\n",
    "    print(count1)\n",
    "    print(count2)\n",
    "s=input()\n",
    "countletters(s)\n",
    "    "
   ]
  },
  {
   "cell_type": "markdown",
   "metadata": {},
   "source": [
    "# special number"
   ]
  },
  {
   "cell_type": "code",
   "execution_count": 8,
   "metadata": {},
   "outputs": [
    {
     "data": {
      "text/plain": [
       "True"
      ]
     },
     "execution_count": 8,
     "metadata": {},
     "output_type": "execute_result"
    }
   ],
   "source": [
    "# special munber\n",
    "# Function to determine if a number is special number or not\n",
    "def isspecialnumber(n, p):\n",
    "    if numberprimefactors(n) >= p:\n",
    "        return True\n",
    "    return False\n",
    "    \n",
    "    \n",
    "# Function to check if number is prime\n",
    "def isprime(n):\n",
    "    flag = 1\n",
    "    if n == 2:\n",
    "        return True\n",
    "    for i in range(2, n//2 + 1):\n",
    "        if n % i == 0:\n",
    "            flag = 0\n",
    "            return False\n",
    "    if flag == 1:\n",
    "        return True\n",
    "    \n",
    "\n",
    "\n",
    "# Function to determine numer of prime factors for a given number\n",
    "\n",
    "\n",
    "def numberprimefactors(n):\n",
    "    if isprime(n):\n",
    "        return 1\n",
    "    count = 0\n",
    "    for i in range(2, n // 2 + 1):\n",
    "        if isprime(i) and n % i == 0:\n",
    "            count += 1\n",
    "    return count\n",
    "\n",
    "def solution2():\n",
    "    p = int(input())\n",
    "    t = int(input())\n",
    "    for i in range(0, t):\n",
    "        n = int (input())\n",
    "        if isspecialnumber(n, p):\n",
    "            print(\"YES\")\n",
    "        else:\n",
    "            print(\"NO\")\n",
    "\n",
    "isspecialnumber(30, 2) "
   ]
  },
  {
   "cell_type": "markdown",
   "metadata": {},
   "source": [
    "# highest reminder\n",
    "\n",
    "- N\n",
    "- highest = 0\n",
    "- x < N and n % x == highest\n",
    "\n",
    "- 10\n",
    "- 9 1\n",
    "- 8 2\n",
    "- 7 3\n",
    "- 6 4\n",
    "- 5 0\n",
    "- 4 2\n",
    "- 3 1\n",
    "- 2 0\n",
    "\n",
    "\n",
    "- 16 14\n",
    "- 15 0\n"
   ]
  },
  {
   "cell_type": "code",
   "execution_count": 8,
   "metadata": {},
   "outputs": [
    {
     "name": "stdout",
     "output_type": "stream",
     "text": [
      "12\n",
      "7\n"
     ]
    }
   ],
   "source": [
    "def maxremainder(n):\n",
    "    rem = 0\n",
    "    maxl = 0\n",
    "    l = 0\n",
    "    list1 = []\n",
    "    for i in range(1,n+1):\n",
    "        rem = n%i\n",
    "        list1.append(rem)\n",
    "        if maxl < rem:\n",
    "            maxl = rem\n",
    "            l = i\n",
    "    print(l)\n",
    "            \n",
    "n = int(input())\n",
    "maxremainder(n)\n"
   ]
  },
  {
   "cell_type": "markdown",
   "metadata": {},
   "source": [
    "# 18th june tasks"
   ]
  },
  {
   "cell_type": "markdown",
   "metadata": {},
   "source": [
    "# tuples\n",
    "- t1 = ()\n",
    "- li = []\n",
    "\n",
    "- difference between tuples and lists\n",
    "\n",
    "\n",
    "- lists are mutable - can changed the data # access, add , modify\n",
    "\n",
    "\n",
    "- tuples are immutable - cannot be changed once initiated # used to acess data onle\n",
    "\n",
    "\n",
    "- all slicing works\n",
    "\n"
   ]
  },
  {
   "cell_type": "code",
   "execution_count": 14,
   "metadata": {},
   "outputs": [
    {
     "data": {
      "text/plain": [
       "(8, 6, 0)"
      ]
     },
     "execution_count": 14,
     "metadata": {},
     "output_type": "execute_result"
    }
   ],
   "source": [
    "t1 = (1, 2, 8, 6, 0)\n",
    "\n",
    "t1[3]               # accesing the 4th element\n",
    "\n",
    "t1[len(t1)//2:]     #access the mid element to last\n",
    "\n"
   ]
  },
  {
   "cell_type": "code",
   "execution_count": 15,
   "metadata": {},
   "outputs": [
    {
     "data": {
      "text/plain": [
       "tuple"
      ]
     },
     "execution_count": 15,
     "metadata": {},
     "output_type": "execute_result"
    }
   ],
   "source": [
    "type(t1)"
   ]
  },
  {
   "cell_type": "markdown",
   "metadata": {},
   "source": [
    "# dictinories\n",
    "\n",
    "- it works on the concept of set # that means unique data (no repetitions)\n",
    "\n",
    "- keys,values \n",
    "\n",
    "- key is the unique identifier for a value\n",
    "\n",
    "- value is a data that can be accessed with key\n"
   ]
  },
  {
   "cell_type": "code",
   "execution_count": 16,
   "metadata": {},
   "outputs": [
    {
     "data": {
      "text/plain": [
       "'value2'"
      ]
     },
     "execution_count": 16,
     "metadata": {},
     "output_type": "execute_result"
    }
   ],
   "source": [
    "d1={\"k1\":\"value1\", \"k2\":\"value2\"}\n",
    "\n",
    "d1[\"k2\"]  # accecing values with keys"
   ]
  },
  {
   "cell_type": "code",
   "execution_count": 17,
   "metadata": {},
   "outputs": [
    {
     "data": {
      "text/plain": [
       "'value1'"
      ]
     },
     "execution_count": 17,
     "metadata": {},
     "output_type": "execute_result"
    }
   ],
   "source": [
    "d1[\"k1\"]     # accecing values with keys"
   ]
  },
  {
   "cell_type": "code",
   "execution_count": 18,
   "metadata": {},
   "outputs": [
    {
     "data": {
      "text/plain": [
       "dict_keys(['k1', 'k2'])"
      ]
     },
     "execution_count": 18,
     "metadata": {},
     "output_type": "execute_result"
    }
   ],
   "source": [
    "d1.keys()  # return list of all values"
   ]
  },
  {
   "cell_type": "code",
   "execution_count": 19,
   "metadata": {},
   "outputs": [
    {
     "data": {
      "text/plain": [
       "dict_values(['value1', 'value2'])"
      ]
     },
     "execution_count": 19,
     "metadata": {},
     "output_type": "execute_result"
    }
   ],
   "source": [
    "d1.values()   # return list of tuples of keys and values"
   ]
  },
  {
   "cell_type": "code",
   "execution_count": 20,
   "metadata": {},
   "outputs": [
    {
     "data": {
      "text/plain": [
       "{'k1': 'value1', 'k2': 'value2', 'k3': 'value3'}"
      ]
     },
     "execution_count": 20,
     "metadata": {},
     "output_type": "execute_result"
    }
   ],
   "source": [
    "d1[\"k3\"] = \"value3\"  # adding an element to the dictionories\n",
    "d1"
   ]
  },
  {
   "cell_type": "code",
   "execution_count": 22,
   "metadata": {},
   "outputs": [
    {
     "data": {
      "text/plain": [
       "{'k1': 'value1', 'k2': 'value2', 'k3': 'value4'}"
      ]
     },
     "execution_count": 22,
     "metadata": {},
     "output_type": "execute_result"
    }
   ],
   "source": [
    "d1[\"k3\"] = \"value4\"  # updating an element to a existing key\n",
    "d1"
   ]
  },
  {
   "cell_type": "code",
   "execution_count": 23,
   "metadata": {},
   "outputs": [
    {
     "data": {
      "text/plain": [
       "{'k1': 'value1', 'k2': 'value2'}"
      ]
     },
     "execution_count": 23,
     "metadata": {},
     "output_type": "execute_result"
    }
   ],
   "source": [
    "d1.pop(\"k3\") #removing a value with key\n",
    "\n",
    "d1"
   ]
  },
  {
   "cell_type": "code",
   "execution_count": 24,
   "metadata": {},
   "outputs": [
    {
     "data": {
      "text/plain": [
       "False"
      ]
     },
     "execution_count": 24,
     "metadata": {},
     "output_type": "execute_result"
    }
   ],
   "source": [
    "\"k3\" in d1 # serching the key"
   ]
  },
  {
   "cell_type": "code",
   "execution_count": null,
   "metadata": {},
   "outputs": [],
   "source": []
  },
  {
   "cell_type": "markdown",
   "metadata": {},
   "source": [
    "# contacts application\n",
    "\n",
    "- add contacts\n",
    "- search contacts\n",
    "- modify contacts\n",
    "- remove contacts\n",
    "- list all contacts\n",
    "\n"
   ]
  },
  {
   "cell_type": "code",
   "execution_count": 15,
   "metadata": {},
   "outputs": [],
   "source": []
  },
  {
   "cell_type": "code",
   "execution_count": 11,
   "metadata": {},
   "outputs": [
    {
     "name": "stdout",
     "output_type": "stream",
     "text": [
      "contacts name1 is added\n"
     ]
    }
   ],
   "source": [
    "contacts = {}\n",
    "\n",
    "def addContact(name1, phone):\n",
    "    if name1 not in contacts:\n",
    "        contacts[name1] = phone\n",
    "        print(\"contacts %s is added\" % name1)\n",
    "    else:\n",
    "        print(\"contacts %s is already exists\"  % name1)\n",
    "    return\n",
    "\n",
    "addContact(\"name1\",12345678)"
   ]
  },
  {
   "cell_type": "code",
   "execution_count": 12,
   "metadata": {},
   "outputs": [
    {
     "name": "stdout",
     "output_type": "stream",
     "text": [
      "contacts name1 is added\n"
     ]
    }
   ],
   "source": [
    "contacts = {}\n",
    "\n",
    "def addContact(name1, phone):\n",
    "    if name1 not in contacts:\n",
    "        contacts[name1] = phone\n",
    "        print(\"contacts %s is added\" % name1)\n",
    "    else:\n",
    "        print(\"contacts %s is already exists\"  % name1)\n",
    "    return\n",
    "\n",
    "addContact(\"name1\",12345678)\n",
    "    "
   ]
  },
  {
   "cell_type": "code",
   "execution_count": 33,
   "metadata": {},
   "outputs": [
    {
     "name": "stdout",
     "output_type": "stream",
     "text": [
      "lachmi12 does not exists\n"
     ]
    }
   ],
   "source": [
    "# search contacts\n",
    "\n",
    "def searchContacts(name):\n",
    "    if name in contacts:\n",
    "        print(name, \"i\",contacts[name])\n",
    "    else:\n",
    "        print(\"%s does not exists\" %name)\n",
    "    return\n",
    "searchContacts(\"lachmi12\")"
   ]
  },
  {
   "cell_type": "code",
   "execution_count": null,
   "metadata": {},
   "outputs": [],
   "source": [
    "def importContacts(newContacts):\n",
    "    contacts.update(newContacts)\n",
    "    "
   ]
  },
  {
   "cell_type": "code",
   "execution_count": null,
   "metadata": {},
   "outputs": [],
   "source": []
  },
  {
   "cell_type": "code",
   "execution_count": null,
   "metadata": {},
   "outputs": [],
   "source": []
  },
  {
   "cell_type": "code",
   "execution_count": null,
   "metadata": {},
   "outputs": [],
   "source": []
  },
  {
   "cell_type": "code",
   "execution_count": null,
   "metadata": {},
   "outputs": [],
   "source": []
  },
  {
   "cell_type": "markdown",
   "metadata": {},
   "source": [
    "# packages and modules\n",
    "\n",
    "- **package** -> collection of modules(python file .py)\n",
    "\n",
    "- **packages has sub packages** -> **modules** -> **functions**\n",
    "\n",
    "- **Module**  -> A single python file containing functions\n",
    "\n"
   ]
  },
  {
   "cell_type": "code",
   "execution_count": 43,
   "metadata": {},
   "outputs": [
    {
     "data": {
      "text/plain": [
       "3.141592653589793"
      ]
     },
     "execution_count": 43,
     "metadata": {},
     "output_type": "execute_result"
    }
   ],
   "source": [
    "import math              # math package\n",
    "\n",
    "math.floor(123.456) \n",
    "math.pi                    # value of pie"
   ]
  },
  {
   "cell_type": "code",
   "execution_count": 44,
   "metadata": {},
   "outputs": [
    {
     "data": {
      "text/plain": [
       "123"
      ]
     },
     "execution_count": 44,
     "metadata": {},
     "output_type": "execute_result"
    }
   ],
   "source": [
    "from math import floor\n",
    "floor(123.345)"
   ]
  },
  {
   "cell_type": "code",
   "execution_count": 45,
   "metadata": {},
   "outputs": [
    {
     "data": {
      "text/plain": [
       "123"
      ]
     },
     "execution_count": 45,
     "metadata": {},
     "output_type": "execute_result"
    }
   ],
   "source": [
    "from math import floor as fl\n",
    "fl(123.345)"
   ]
  },
  {
   "cell_type": "code",
   "execution_count": 51,
   "metadata": {},
   "outputs": [
    {
     "data": {
      "text/plain": [
       "79"
      ]
     },
     "execution_count": 51,
     "metadata": {},
     "output_type": "execute_result"
    }
   ],
   "source": [
    "# function to generate a random number\n",
    "\n",
    "import random\n",
    "\n",
    "#def generateRandomNumbers(n):\n",
    "\n",
    "random.randint(0, 100)"
   ]
  },
  {
   "cell_type": "code",
   "execution_count": 54,
   "metadata": {},
   "outputs": [
    {
     "name": "stdout",
     "output_type": "stream",
     "text": [
      "12 95 0 99 94 38 75 20 28 68 29 13 88 80 45 88 34 81 92 19 "
     ]
    }
   ],
   "source": [
    "# function to generate n random numbers\n",
    "import random\n",
    "\n",
    "def generateRandomNumbers(n, lb, ub):\n",
    "    for i in range(0,n):\n",
    "        print(random.randint(lb, ub),end=\" \")   \n",
    "\n",
    "generateRandomNumbers(20,0, 100)"
   ]
  },
  {
   "cell_type": "code",
   "execution_count": 2,
   "metadata": {},
   "outputs": [
    {
     "data": {
      "text/plain": [
       "2"
      ]
     },
     "execution_count": 2,
     "metadata": {},
     "output_type": "execute_result"
    }
   ],
   "source": [
    "from packages import numarical\n",
    "\n",
    "numarical.numberprimefactors(1000)"
   ]
  },
  {
   "cell_type": "code",
   "execution_count": 3,
   "metadata": {},
   "outputs": [
    {
     "data": {
      "text/plain": [
       "True"
      ]
     },
     "execution_count": 3,
     "metadata": {},
     "output_type": "execute_result"
    }
   ],
   "source": [
    "from packages import numarical\n",
    "\n",
    "numarical.isprime(7)"
   ]
  },
  {
   "cell_type": "code",
   "execution_count": 10,
   "metadata": {},
   "outputs": [
    {
     "data": {
      "text/plain": [
       "123"
      ]
     },
     "execution_count": 10,
     "metadata": {},
     "output_type": "execute_result"
    }
   ],
   "source": [
    "from math import floor as fl\n",
    "fl(123.345)"
   ]
  },
  {
   "cell_type": "code",
   "execution_count": 8,
   "metadata": {},
   "outputs": [
    {
     "name": "stdout",
     "output_type": "stream",
     "text": [
      "1 2 3 "
     ]
    }
   ],
   "source": [
    "def perfect(n):\n",
    "    for i in range(1,n):\n",
    "        if n % i == 0:\n",
    "            print(i, end=\" \")\n",
    "perfect(6)"
   ]
  },
  {
   "cell_type": "code",
   "execution_count": 1,
   "metadata": {},
   "outputs": [
    {
     "data": {
      "text/plain": [
       "True"
      ]
     },
     "execution_count": 1,
     "metadata": {},
     "output_type": "execute_result"
    }
   ],
   "source": [
    "def perfect(n):\n",
    "    sum=0\n",
    "    for i in range(1,n):\n",
    "        if n % i == 0:\n",
    "            sum=sum+i\n",
    "    if sum==n:\n",
    "        return True\n",
    "    return False\n",
    "perfect(6)"
   ]
  },
  {
   "cell_type": "markdown",
   "metadata": {},
   "source": [
    "# 20th june objectives"
   ]
  },
  {
   "cell_type": "markdown",
   "metadata": {},
   "source": [
    "### basics of regular expressions\n",
    "\n",
    "-  pattern matching\n",
    "-  symbolic notation of a pattern\n",
    "     -  pattern : Format which repeats\n",
    "     -  pattern(RE) - the set of all strings match that pattern\n",
    "\n",
    "- [0_9]    ->  Any digit\n",
    "\n",
    "- [a-z]    ->  Any lower case alphabet\n",
    "\n",
    "- [2468]   ->  All single digit multiples of 2\n",
    "\n",
    "- [8642]\n",
    "- [6842]\n",
    "- ^[0-9]{1}$  -> only single digit accepted # { } represents no.of digits to be highlighted\n",
    "\n",
    "- ^[0-9]{2}$  -> only second digit accepted\n",
    "\n",
    "- ^[0-9]{3}$  -> only third digit accepted # ^ symbol represents 1st 3 digits # $ symbol represents 1st 3 digits\n",
    "\n",
    "- [0-9]{3}$   -> only last 3 characters\n",
    "\n",
    "- [0-9]*0$    -> all multiples of 10\n",
    "\n",
    "- ^[1-9][0-9]*0$  -> doesn't read zeros\n",
    "\n",
    "\n",
    "- [0-9]*5$|[0-9]*0$  (and) [0-9]*[0/5]$   (and)  ^([1-9][0-9]*[05])$|^([5])$        -> all multiples of 5\n",
    "\n",
    "- ^[0-9]{10}$                                     -> all 10 digits\n",
    "\n",
    "\n",
    "- [9876]{1}[0-9]{9}$  (and)  ^[6-9][0-9]{9}$|^[0][6-9][0-9]{9}$|^[+][9][1][6-9][0-9]{9}$  -> validating phone number(india)(start with 9876 followed by 9\n",
    "\n",
    "\n",
    "-> Email validating (username@domain.extension)\n",
    "   - username\n",
    "     - length of user name : [6,15]\n",
    "     - no special character other than _ or .\n",
    "     - should not begin and end with _ or .\n",
    "     - character set : all digits and alphabet\n",
    "   - domain\n",
    "     - length of domain : [3,18]\n",
    "     - no special characters\n",
    "     - character set : all digits and alphabet\n",
    "   - extension\n",
    "     - length of extension : [2,4]\n",
    "     - no special characters\n",
    "     - character set : alphabet\n",
    "     \n",
    "  - ^[a-z0-9]|[0-9a-z_.]{4,14}[0-9a-z][@][a-z0-9]{3,18}[.][a-z]{2,4}$   ->    email reading\n",
    "\n",
    "\n",
    "- [p][r][i][n][t]  ->  detect the word print at anywhere\n",
    "- [p][r][i][n][t]$  -> only detect print word at end of the line\n",
    "- (print)          ->  detect the word print at anywhere\n",
    "\n",
    "\n",
    "- ^[a].*[z]$  ->   any string of length 5 that starts with 'a' and ends with 'z'\n"
   ]
  },
  {
   "cell_type": "code",
   "execution_count": 6,
   "metadata": {},
   "outputs": [
    {
     "name": "stdout",
     "output_type": "stream",
     "text": [
      "valid number\n"
     ]
    }
   ],
   "source": [
    "# function to validate a phone number\n",
    "\n",
    "import re\n",
    "\n",
    "def phonenumbervalidator(number):\n",
    "    pattern = \"^[6-9][0-9]{9}$|^[0][6-9][0-9]{9}$|^[+][9][1][6-9][0-9]{9}$\"\n",
    "    if re.match(pattern,str(number)):\n",
    "        print(\"valid number\")\n",
    "    else:\n",
    "        print(\"invalid number\")\n",
    "    return\n",
    "phonenumbervalidator(9603420309)"
   ]
  },
  {
   "cell_type": "markdown",
   "metadata": {},
   "source": [
    "# function to validate phone number"
   ]
  },
  {
   "cell_type": "code",
   "execution_count": 19,
   "metadata": {},
   "outputs": [
    {
     "data": {
      "text/plain": [
       "True"
      ]
     },
     "execution_count": 19,
     "metadata": {},
     "output_type": "execute_result"
    }
   ],
   "source": [
    "import re\n",
    "def phonenumbervalidate(number):\n",
    "    pattern = '^[6-9][0-9]{9}$'\n",
    "    if re.match(pattern, str(number)):\n",
    "        return True\n",
    "    else:\n",
    "        return False\n",
    "phonenumbervalidate(987637834)\n",
    "\n",
    "def emailvalidator(email):\n",
    "    pattern = \"^[0-9a-z][0-9a-z_.]{4,13}[0-9a-z][@][a-z0-9]{3,18}[.][a-z]{2,4}$\"\n",
    "    if re.match(pattern, email):\n",
    "        return True\n",
    "    return False\n",
    "emailvalidator(\"n140761@rguktn.in\")"
   ]
  },
  {
   "cell_type": "code",
   "execution_count": 24,
   "metadata": {},
   "outputs": [
    {
     "name": "stdout",
     "output_type": "stream",
     "text": [
      "phone number is invalid\n"
     ]
    }
   ],
   "source": [
    " # Verify that the contact doesn't already exist\n",
    "    \n",
    "contacts = {\"name1\":[9654321034,'name1@domain.txt'],\"name2\":[8519843352,'name2@domain.txt'],\"name3\":[7702020355,'name3@domain.txt'],\"name4\":[9989843011,'name4@domain.txt']}\n",
    "\n",
    "def addcontact(name, phone, email):         \n",
    "    if name in contacts:\n",
    "        print(name, \"already exists.\")\n",
    "    else:\n",
    "        if phonenumbervalidate(phone):\n",
    "            print(\"phone number is invalid\")\n",
    "            return\n",
    "        if not emailvalidator(email):\n",
    "            print(\"invalid eamail address\")\n",
    "            return\n",
    "        newcontact = []\n",
    "        newcontact.append(phone)\n",
    "        newcontact.append(email)\n",
    "        contacts[name] = newcontact\n",
    "    return\n",
    "        \n",
    "addcontact(\"name5\",8686925122,\"name5@domain.txt\")"
   ]
  },
  {
   "cell_type": "code",
   "execution_count": 28,
   "metadata": {},
   "outputs": [
    {
     "name": "stdout",
     "output_type": "stream",
     "text": [
      "name3 does not exists\n"
     ]
    }
   ],
   "source": [
    "# search contacts\n",
    "\n",
    "def searchContacts(name):\n",
    "    if name in contacts:\n",
    "        print(name)\n",
    "        print(\"phone :\",contacts[name][0])\n",
    "        print(\"email :\",contacts[name][1])\n",
    "    else:\n",
    "        print(\"%s does not exists\" % name)\n",
    "    return\n",
    "searchContacts(\"name3\")"
   ]
  },
  {
   "cell_type": "code",
   "execution_count": 10,
   "metadata": {},
   "outputs": [
    {
     "name": "stdout",
     "output_type": "stream",
     "text": [
      "1 contacts added successfully\n"
     ]
    },
    {
     "data": {
      "text/plain": [
       "<function dict.items>"
      ]
     },
     "execution_count": 10,
     "metadata": {},
     "output_type": "execute_result"
    }
   ],
   "source": [
    "# contacts as given as dictionary\n",
    "# merge new contacts with existing contacts\n",
    "\n",
    "def importcontacts(newcontacts):\n",
    "    contacts.update(newcontacts)\n",
    "    print(len(newcontacts.keys()),\"contacts added successfully\")\n",
    "    return\n",
    "newcontacts = {\"name3\":[9807654323,\"name3_123@gmail.com\"]}\n",
    "importcontacts(newcontacts)\n",
    "contacts.items\n",
    "\n"
   ]
  },
  {
   "cell_type": "code",
   "execution_count": null,
   "metadata": {},
   "outputs": [],
   "source": [
    "# function to list all contacts\n",
    "\n",
    "def listallcontacts():\n",
    "    for contact, info in contacts.items():\n",
    "        print(contact, \"\\n\", \"phone :\", info[0], \"\\n\", \"email :\", info)\n",
    "        \n",
    "listallcontacts()        "
   ]
  },
  {
   "cell_type": "code",
   "execution_count": null,
   "metadata": {},
   "outputs": [],
   "source": [
    "# function to edit contact information\n",
    "\n",
    "def editcontact(name, phone, email):\n",
    "    for "
   ]
  },
  {
   "cell_type": "markdown",
   "metadata": {},
   "source": [
    "# 21st objectives"
   ]
  },
  {
   "cell_type": "markdown",
   "metadata": {},
   "source": [
    "# file handling in python\n",
    "\n",
    "- **File**  -> Document containing information residing on the perminent storage\n",
    "\n",
    "- **Types**  -> Text,PDF,CSV,image etc.,\n",
    "\n",
    "- **file I/O** -> channeling i/o data to files\n",
    "\n",
    "- Default I/O channels -  keyboard/ screen\n",
    "\n",
    "- change I/O channel to files for reading and writing \n",
    "\n",
    "- read a file is nothing but input\n",
    "\n",
    "- write to file - output to a file\n",
    "\n",
    "- read/write a file -> open(file name, mode)\n",
    "\n",
    "- \n"
   ]
  },
  {
   "cell_type": "code",
   "execution_count": 29,
   "metadata": {},
   "outputs": [
    {
     "name": "stdout",
     "output_type": "stream",
     "text": [
      "text\n"
     ]
    },
    {
     "data": {
      "text/plain": [
       "'text'"
      ]
     },
     "execution_count": 29,
     "metadata": {},
     "output_type": "execute_result"
    }
   ],
   "source": [
    "s=input()\n",
    "s"
   ]
  },
  {
   "cell_type": "code",
   "execution_count": 49,
   "metadata": {},
   "outputs": [
    {
     "name": "stdout",
     "output_type": "stream",
     "text": [
      "newdataLine2\n",
      "Line3Line2\n",
      "Line3\n",
      "Line3\n",
      "Line3\n",
      "Line3\n"
     ]
    }
   ],
   "source": [
    "# function to read file\n",
    "\n",
    "def readFile(filename):\n",
    "    f = open(filename, 'r')\n",
    "    filedata = f.read()\n",
    "    f.close()\n",
    "    return filedata\n",
    "\n",
    "filename = 'DataFiles/data.txt'\n",
    "for line in readFile(filename).split('\\n'):\n",
    "    print(line)\n",
    "\n",
    "def printFiledataLines(filename):\n",
    "    f = open(filename, 'r')\n",
    "    for lines in f:\n",
    "        print(line)\n",
    "    return\n",
    "\n",
    "printFiledataLines(filename)"
   ]
  },
  {
   "cell_type": "code",
   "execution_count": 3,
   "metadata": {},
   "outputs": [],
   "source": [
    "def writeintoFile(filename, filedata):\n",
    "    with open(filename, 'w') as f:\n",
    "        f.write(filedata)\n",
    "    return\n",
    "filename = 'DataFiles/data.txt'\n",
    "\n",
    "writeintoFile(filename, \"iiit nuzvid\")"
   ]
  },
  {
   "cell_type": "code",
   "execution_count": 4,
   "metadata": {},
   "outputs": [],
   "source": [
    "# Function to append data to a file\n",
    "\n",
    "def appendDataToFile(filename, filedata):\n",
    "    with open(filename, 'a') as f:\n",
    "        f.writelines(filedata)\n",
    "    return\n",
    "\n",
    "filedata = [\"line4\", \"line5\"]\n",
    "appendDataToFile(filename,filedata)"
   ]
  },
  {
   "cell_type": "markdown",
   "metadata": {},
   "source": []
  },
  {
   "cell_type": "code",
   "execution_count": 15,
   "metadata": {},
   "outputs": [
    {
     "ename": "SyntaxError",
     "evalue": "invalid syntax (<ipython-input-15-77e74fe28b3f>, line 20)",
     "output_type": "error",
     "traceback": [
      "\u001b[1;36m  File \u001b[1;32m\"<ipython-input-15-77e74fe28b3f>\"\u001b[1;36m, line \u001b[1;32m20\u001b[0m\n\u001b[1;33m    with open of (filename, 'r') as f:\u001b[0m\n\u001b[1;37m               ^\u001b[0m\n\u001b[1;31mSyntaxError\u001b[0m\u001b[1;31m:\u001b[0m invalid syntax\n"
     ]
    }
   ],
   "source": [
    "# \n",
    "\n",
    "from packages import validators\n",
    "\n",
    "def addcontact(name, phone, email):\n",
    "    #name,phone,email # store the data as name, email in the contacts file\n",
    "    filename = 'datafiles/contacts.txt'\n",
    "    with open(filename, 'a') as f:\n",
    "        line = 'name+', '+ phone +', '+ email +''\\n'\n",
    "        f.write(line)\n",
    "        print (name, \"add contacts\")\n",
    "        rerurn\n",
    "    \n",
    "addcontact()\n",
    "\n",
    "# check if contact is alresdy exist\n",
    "\n",
    "def checkcontactexists(name):\n",
    "    filename = 'Datafiles/contacts.txt'\n",
    "    with open of (filename, 'r') as f:\n",
    "        filedata = f.read()\n",
    "        \n",
    "    return re.search(name, filedata)\n",
    "\n",
    "if checkcontactexists(\"name1\"):\n",
    "    print(True)\n",
    "else:\n",
    "    print(False)\n",
    "   "
   ]
  },
  {
   "cell_type": "markdown",
   "metadata": {},
   "source": [
    "# 22nd june objectives"
   ]
  },
  {
   "cell_type": "markdown",
   "metadata": {},
   "source": [
    "- File handling\n",
    "    - Basic file data processing\n",
    "         - accessing and modifying file data\n",
    "            - character count\n",
    "            - Line count\n",
    "            - File size\n",
    "            - word count\n",
    "            - unique word count"
   ]
  },
  {
   "cell_type": "code",
   "execution_count": 26,
   "metadata": {},
   "outputs": [
    {
     "name": "stdout",
     "output_type": "stream",
     "text": [
      "<class '_io.TextIOWrapper'>\n"
     ]
    }
   ],
   "source": [
    "# read file - file should exist in some part of the storage (READ mode)\n",
    "# write to a file - existing(APPEND mode) or new file(WRITE mode)\n",
    "\n",
    "def readfile(filepath):\n",
    "    with open(filepath, 'r') as f: \n",
    "        print(type(f))\n",
    "    return\n",
    "\n",
    "filepath = 'DataFiles/data.txt'\n",
    "readfile(filepath)\n",
    "        \n",
    "    \n",
    "\n"
   ]
  },
  {
   "cell_type": "code",
   "execution_count": 27,
   "metadata": {},
   "outputs": [
    {
     "name": "stdout",
     "output_type": "stream",
     "text": [
      "iiit nuzvidline4line5\n"
     ]
    }
   ],
   "source": [
    "def readfile(filepath):\n",
    "    with open(filepath, 'r') as f: \n",
    "        filedata = f.read()\n",
    "    return filedata\n",
    "\n",
    "filepath = 'DataFiles/data.txt'\n",
    "print(readfile(filepath))\n",
    "        \n",
    "    "
   ]
  },
  {
   "cell_type": "code",
   "execution_count": 8,
   "metadata": {
    "scrolled": true
   },
   "outputs": [
    {
     "name": "stdout",
     "output_type": "stream",
     "text": [
      "21\n"
     ]
    }
   ],
   "source": [
    "# char count\n",
    "def charcount(filepath):\n",
    "    with open(filepath, 'r') as f:\n",
    "        char=0\n",
    "        for i in f:\n",
    "            for j in i:\n",
    "                char = char+1\n",
    "        print(char)\n",
    "filepath = 'DataFiles/data.txt'\n",
    "charcount(filepath)        "
   ]
  },
  {
   "cell_type": "code",
   "execution_count": 11,
   "metadata": {},
   "outputs": [
    {
     "name": "stdout",
     "output_type": "stream",
     "text": [
      "4\n"
     ]
    }
   ],
   "source": [
    "# line count\n",
    "def linecount(filepath):\n",
    "    with open(filepath, 'r') as f:\n",
    "        char=0\n",
    "        for i in f:\n",
    "            char = char+1\n",
    "        print(char)\n",
    "filepath = 'DataFiles/data.txt'\n",
    "linecount(filepath)       "
   ]
  },
  {
   "cell_type": "code",
   "execution_count": 16,
   "metadata": {},
   "outputs": [
    {
     "name": "stdout",
     "output_type": "stream",
     "text": [
      "4\n"
     ]
    }
   ],
   "source": [
    "# word count\n",
    "def wordcount(filepath):\n",
    "    with open(filepath, 'r') as f:\n",
    "        s=f.read().split()\n",
    "        print(len(s))\n",
    "\n",
    "filepath = 'DataFiles/data.txt'\n",
    "wordcount(filepath)  "
   ]
  },
  {
   "cell_type": "code",
   "execution_count": 20,
   "metadata": {},
   "outputs": [
    {
     "name": "stdout",
     "output_type": "stream",
     "text": [
      "24 bytes\n"
     ]
    }
   ],
   "source": [
    "# file size\n",
    "import os\n",
    "def sizeoffile(f):\n",
    "    s=os.path.getsize(f)\n",
    "    if s<1000:\n",
    "        print(s,\"bytes\")\n",
    "    else:\n",
    "        c=s//1000\n",
    "        print(c,\"KB\")\n",
    "    return\n",
    "\n",
    "sizeoffile('DataFiles/data.txt')"
   ]
  },
  {
   "cell_type": "code",
   "execution_count": 24,
   "metadata": {},
   "outputs": [
    {
     "name": "stdout",
     "output_type": "stream",
     "text": [
      "['iiit', 'nuzvid', 'line4', 'line5', 'line5', 'line4']\n",
      "4\n"
     ]
    }
   ],
   "source": [
    "# unique word count\n",
    "\n",
    "def uniquewordcount(filepath):\n",
    "    with open(filepath, 'r') as f:\n",
    "        s=f.read().split()\n",
    "        print(s)\n",
    "        y=set(s)\n",
    "        print(len(y))\n",
    "        return\n",
    "\n",
    "filepath = 'DataFiles/data.txt'\n",
    "uniquewordcount(filepath)"
   ]
  },
  {
   "cell_type": "code",
   "execution_count": null,
   "metadata": {},
   "outputs": [],
   "source": []
  }
 ],
 "metadata": {
  "kernelspec": {
   "display_name": "Python 3",
   "language": "python",
   "name": "python3"
  },
  "language_info": {
   "codemirror_mode": {
    "name": "ipython",
    "version": 3
   },
   "file_extension": ".py",
   "mimetype": "text/x-python",
   "name": "python",
   "nbconvert_exporter": "python",
   "pygments_lexer": "ipython3",
   "version": "3.7.3"
  }
 },
 "nbformat": 4,
 "nbformat_minor": 2
}
