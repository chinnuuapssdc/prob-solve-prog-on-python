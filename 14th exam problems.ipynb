{
 "cells": [
  {
   "cell_type": "markdown",
   "metadata": {},
   "source": [
    "\n",
    "# Sum of squares of the given N natural numbers"
   ]
  },
  {
   "cell_type": "code",
   "execution_count": 1,
   "metadata": {},
   "outputs": [
    {
     "name": "stdout",
     "output_type": "stream",
     "text": [
      "7\n"
     ]
    },
    {
     "data": {
      "text/plain": [
       "140"
      ]
     },
     "execution_count": 1,
     "metadata": {},
     "output_type": "execute_result"
    }
   ],
   "source": [
    "\n",
    "\n",
    "n=int(input())\n",
    "def sumSquaresNaturalNumbers(n):\n",
    "    sum=0\n",
    "    for i in range(1,n+1):\n",
    "        sum=sum+i**2\n",
    "    return sum\n",
    "sumSquaresNaturalNumbers(n)"
   ]
  },
  {
   "cell_type": "markdown",
   "metadata": {},
   "source": [
    "# closest to zero"
   ]
  },
  {
   "cell_type": "code",
   "execution_count": 4,
   "metadata": {},
   "outputs": [
    {
     "name": "stdout",
     "output_type": "stream",
     "text": [
      "4\n",
      "1 2 -1 0\n"
     ]
    },
    {
     "data": {
      "text/plain": [
       "0"
      ]
     },
     "execution_count": 4,
     "metadata": {},
     "output_type": "execute_result"
    }
   ],
   "source": [
    "n=int(input())\n",
    "s=input()\n",
    "s=s.split()\n",
    "li=[]\n",
    "for i in s:\n",
    "    li.append(int(i))\n",
    "def closestZero(li):\n",
    "    if 0 in li:\n",
    "        return 0\n",
    "    else:\n",
    "        li.sort()\n",
    "        pc=[]\n",
    "        nc=[]\n",
    "        for i in li:\n",
    "            if i>0:\n",
    "                pc.append(i)\n",
    "            else:\n",
    "                nc.append(i)\n",
    "                if len(nc)==0:\n",
    "                    return min(pc)\n",
    "                elif len(pc)==0:\n",
    "                    return max(nc)\n",
    "                else:\n",
    "                    nz=max(nc)\n",
    "                    pz=min(pc)\n",
    "                    if abs(nz)>pz or abs(nz)==pz:\n",
    "                        return pz\n",
    "                    else:\n",
    "                        return nz\n",
    "closestZero(li)\n"
   ]
  },
  {
   "cell_type": "markdown",
   "metadata": {},
   "source": [
    "# largest number"
   ]
  },
  {
   "cell_type": "code",
   "execution_count": 3,
   "metadata": {},
   "outputs": [
    {
     "data": {
      "text/plain": [
       "49"
      ]
     },
     "execution_count": 3,
     "metadata": {},
     "output_type": "execute_result"
    }
   ],
   "source": [
    "def cal(a,b,c):\n",
    "    for i in range(c,a-1,-1):\n",
    "        if i % a ==b:\n",
    "            return i\n",
    "    return -1\n",
    "cal(3,1,50)\n"
   ]
  },
  {
   "cell_type": "code",
   "execution_count": null,
   "metadata": {},
   "outputs": [],
   "source": []
  }
 ],
 "metadata": {
  "kernelspec": {
   "display_name": "Python 3",
   "language": "python",
   "name": "python3"
  },
  "language_info": {
   "codemirror_mode": {
    "name": "ipython",
    "version": 3
   },
   "file_extension": ".py",
   "mimetype": "text/x-python",
   "name": "python",
   "nbconvert_exporter": "python",
   "pygments_lexer": "ipython3",
   "version": "3.7.3"
  }
 },
 "nbformat": 4,
 "nbformat_minor": 2
}
