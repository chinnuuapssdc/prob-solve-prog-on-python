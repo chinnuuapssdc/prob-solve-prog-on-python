{
 "cells": [
  {
   "cell_type": "code",
   "execution_count": 7,
   "metadata": {},
   "outputs": [],
   "source": [
    "#write data\n",
    "fh = open('book.txt','w')\n",
    "data = ' hi every one'\n",
    "fh.write(data)\n",
    "fh.close()"
   ]
  },
  {
   "cell_type": "code",
   "execution_count": 13,
   "metadata": {},
   "outputs": [
    {
     "name": "stdout",
     "output_type": "stream",
     "text": [
      " hi every one\n"
     ]
    }
   ],
   "source": [
    "#read the data\n",
    "\n",
    "fh = open('book.txt','r')    # in this operation read the data as well as delete the data\n",
    "print(fh.read())\n",
    "fh.close()"
   ]
  },
  {
   "cell_type": "code",
   "execution_count": 16,
   "metadata": {},
   "outputs": [
    {
     "name": "stdout",
     "output_type": "stream",
     "text": [
      "1\n",
      "4\n",
      "B\n"
     ]
    }
   ],
   "source": [
    "# read with out delete the content\n",
    "liftA=0\n",
    "liftB=7\n",
    "testcases=int(input())\n",
    "for i in range(testcases):\n",
    "    S=int(input())\n",
    "    conditionA = abs(liftA-S)\n",
    "    conditionB = abs(liftB-S)\n",
    "    if (conditionA <= conditionB):\n",
    "        print(\"A\")\n",
    "        liftA=S\n",
    "    else:\n",
    "        print(\"B\")\n",
    "        liftB=S\n",
    "    "
   ]
  },
  {
   "cell_type": "code",
   "execution_count": null,
   "metadata": {},
   "outputs": [],
   "source": []
  }
 ],
 "metadata": {
  "kernelspec": {
   "display_name": "Python 3",
   "language": "python",
   "name": "python3"
  },
  "language_info": {
   "codemirror_mode": {
    "name": "ipython",
    "version": 3
   },
   "file_extension": ".py",
   "mimetype": "text/x-python",
   "name": "python",
   "nbconvert_exporter": "python",
   "pygments_lexer": "ipython3",
   "version": "3.7.3"
  }
 },
 "nbformat": 4,
 "nbformat_minor": 2
}
