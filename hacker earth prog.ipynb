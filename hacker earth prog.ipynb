{
 "cells": [
  {
   "cell_type": "markdown",
   "metadata": {},
   "source": [
    "# find product"
   ]
  },
  {
   "cell_type": "code",
   "execution_count": 4,
   "metadata": {},
   "outputs": [
    {
     "name": "stdout",
     "output_type": "stream",
     "text": [
      "5\n",
      "1 2 3 4 5\n",
      "120\n"
     ]
    }
   ],
   "source": [
    "n=int(input())\n",
    "x=input()\n",
    "answer = 1\n",
    "for i in x.split():\n",
    "    answer = (answer*int(i))%(1000000000+7)\n",
    "print(answer)\n"
   ]
  },
  {
   "cell_type": "markdown",
   "metadata": {},
   "source": [
    "# play with numbers"
   ]
  },
  {
   "cell_type": "code",
   "execution_count": 1,
   "metadata": {},
   "outputs": [
    {
     "name": "stdout",
     "output_type": "stream",
     "text": [
      "5 3\n",
      "1 2 3 4 5\n",
      "1 3\n",
      "2\n",
      "2 4\n",
      "3\n",
      "2 3\n",
      "2\n"
     ]
    }
   ],
   "source": [
    "n = input().split()\n",
    "n[0], n[1] = int(n[0]),int(n[1])\n",
    "a = input().split() # Read array elements\n",
    "sum = [] # Initialize comulative sum array\n",
    "# Comulative sum\n",
    "for i in range(0, n[0]):\n",
    "    if i == 0:\n",
    "        sum.append(int(a[i]))\n",
    "    else:\n",
    "        sum.append(int(sum[i-1])+int(a[i]))\n",
    "del a\n",
    "# Read each query and calculate the average\n",
    "for k in range(0, n[1]):\n",
    "    inq = input().split()\n",
    "    i = int(inq[0])\n",
    "    j = int(inq[1])\n",
    "    if i>1:\n",
    "        print((sum[j-1]-sum[i-2])// (j-i+1))\n",
    "    else:\n",
    "        print(sum[j-1]//(j-i+1))\n",
    "\n"
   ]
  },
  {
   "cell_type": "markdown",
   "metadata": {},
   "source": [
    "# seating arrangement"
   ]
  },
  {
   "cell_type": "code",
   "execution_count": null,
   "metadata": {},
   "outputs": [],
   "source": [
    "t=int(input())\n",
    "for i in range(1,t+1):\n",
    "    seatnum=int(input())\n",
    "    n=(seatnum-1)//12\n",
    "    if seatnum%3==2:\n",
    "        s=\"MS\"\n",
    "    elif seatnum%6<2:\n",
    "        s=\"WS\"\n",
    "    else:\n",
    "        s=\"AS\"\n",
    "    print(24*n+13-seatnum,s)\n",
    "                    "
   ]
  },
  {
   "cell_type": "markdown",
   "metadata": {},
   "source": [
    "# very easy problems"
   ]
  },
  {
   "cell_type": "markdown",
   "metadata": {},
   "source": [
    "# 1.prime number\n",
    "\n",
    "### 1.You are given an integer N. You need to print the series of all prime numbers till N.\n",
    "\n",
    "### Input Format\n",
    "\n",
    "- The first and only line of the input contains a single integer N denoting the number till where you need to find the series of prime number.\n",
    "\n",
    "- Output Format\n",
    "\n",
    "- Print the desired output in single line separated by spaces.\n",
    "\n",
    "- Constraints\n",
    "\n",
    "- 1<=N<=1000\n",
    "\n",
    "- sample i/p : 9   \n",
    "- sample o/p : 2,3,5,7\n"
   ]
  },
  {
   "cell_type": "code",
   "execution_count": 1,
   "metadata": {},
   "outputs": [
    {
     "name": "stdout",
     "output_type": "stream",
     "text": [
      "9\n",
      "2 3 5 7 "
     ]
    }
   ],
   "source": [
    "def prime(n):\n",
    "    for num in range(2, n + 1):\n",
    "            for i in range(2, num):\n",
    "                if (num % i) == 0:\n",
    "                    break\n",
    "            else:\n",
    "                 print(num, end=\" \")\n",
    "    return\n",
    "num = int(input())\n",
    "prime(num)"
   ]
  },
  {
   "cell_type": "markdown",
   "metadata": {},
   "source": [
    "# 2.Seating Arrangement\n",
    "\n",
    "#### Akash and Vishal are quite fond of travelling. They mostly travel by railways. They were travelling in a train one day and they got interested in the seating arrangement of their compartment. The compartment looked something like So they got interested to know the seat number facing them and the seat type facing them. The seats are denoted as follows : \n",
    "\n",
    "- Window Seat : WS\n",
    "- Middle Seat : MS\n",
    "- Aisle Seat : AS\n",
    "\n",
    "- You will be given a seat number, find out the seat number facing you and the seat type, i.e. WS, MS or AS.\n",
    "\n",
    "- INPUT\n",
    "- First line of input will consist of a single integer T denoting number of test-cases. Each test-case consists of a single integer N denoting the seat-number.\n",
    "\n",
    "- OUTPUT\n",
    "- For each test case, print the facing seat-number and the seat-type, separated by a single space in a new line.\n",
    "\n",
    "- CONSTRAINTS\n",
    "- 1<=T<=105\n",
    "- 1<=N<=108\n",
    "\n",
    "- sample i/p :- 2                      sample o/p:- 19 WS\n",
    "                18                                  45 AS\n",
    "                40              "
   ]
  },
  {
   "cell_type": "code",
   "execution_count": 1,
   "metadata": {},
   "outputs": [
    {
     "name": "stdout",
     "output_type": "stream",
     "text": [
      "2\n",
      "18\n",
      "19 WS\n",
      "40\n",
      "45 AS\n"
     ]
    }
   ],
   "source": [
    "t=int(input())\n",
    "for i in range(1,t+1):\n",
    "    seatnum=int(input())\n",
    "    n=(seatnum-1)//12\n",
    "    if seatnum%3==2:\n",
    "        s=\"MS\"\n",
    "    elif seatnum%6<2:\n",
    "        s=\"WS\"\n",
    "    else:\n",
    "        s=\"AS\"\n",
    "    print(24*n+13-seatnum,s)\n",
    "                    "
   ]
  },
  {
   "cell_type": "markdown",
   "metadata": {},
   "source": [
    "# 3.Palindromic String\n",
    "\n",
    "- You have been given a String S. You need to find and print whether this string is a palindrome or not. If yes, print \"YES\" (without quotes), else print \"NO\" (without quotes).\n",
    "\n",
    "- Input Format\n",
    "- The first and only line of input contains the String S. The String shall consist of lowercase English alphabets only.\n",
    "\n",
    "- Output Format\n",
    "- Print the required answer on a single line.\n",
    "\n",
    "- Constraints 1 < |S| < 100\n",
    "\n",
    "- Note\n",
    "- String S consists of lowercase English Alphabets only.\n",
    "\n",
    "- sample i/p: aba             output: yes"
   ]
  },
  {
   "cell_type": "code",
   "execution_count": 2,
   "metadata": {},
   "outputs": [
    {
     "name": "stdout",
     "output_type": "stream",
     "text": [
      "aba\n",
      "YES\n"
     ]
    }
   ],
   "source": [
    "def palindrome(st):\n",
    "    sl=st[::-1]\n",
    "    if sl==st:\n",
    "        print(\"YES\")\n",
    "    else:\n",
    "        print(\"NO\")\n",
    "        \n",
    "st=input()\n",
    "palindrome(st)\n"
   ]
  },
  {
   "cell_type": "markdown",
   "metadata": {},
   "source": [
    "# 4.Find Product\n",
    "\n",
    "- You have been given an array A of size N consisting of positive integers. You need to find and print the product of all the number in this array Modulo 10^9+7.\n",
    "\n",
    "- Input Format:\n",
    "- The first line contains a single integer N denoting the size of the array. The next line contains N space separated integers denoting the elements of the array\n",
    "\n",
    "- Output Format:\n",
    "- Print a single integer denoting the product of all the elements of the array Modulo 10^9+7.\n",
    "- input : 5                     - output :- 120\n",
    "-         1 2 3 4 5       \n",
    "\n"
   ]
  },
  {
   "cell_type": "code",
   "execution_count": 3,
   "metadata": {},
   "outputs": [
    {
     "name": "stdout",
     "output_type": "stream",
     "text": [
      "5\n",
      "1 2 3 4 5\n",
      "120\n"
     ]
    }
   ],
   "source": [
    "n=int(input())\n",
    "x=input()\n",
    "answer = 1\n",
    "for i in x.split():\n",
    "    answer = (answer*int(i))%(1000000000+7)\n",
    "print(answer)\n"
   ]
  },
  {
   "cell_type": "markdown",
   "metadata": {},
   "source": [
    "# 5.Count Divisors\n",
    "\n",
    "#### You have been given 3 integers - l, r and k. Find how many numbers between l and r (both inclusive) are divisible by k. You do not need to print these numbers, you just have to find their count.\n",
    "\n",
    "- Input Format\n",
    "- The first and only line of input contains 3 space separated integers l, r and k.\n",
    "\n",
    "- Output Format\n",
    "- Print the required answer on a single line.\n",
    "\n",
    "- i/p:- 1 10 1             \n",
    "- o/p: 10"
   ]
  },
  {
   "cell_type": "code",
   "execution_count": 4,
   "metadata": {},
   "outputs": [
    {
     "name": "stdout",
     "output_type": "stream",
     "text": [
      "1 10 1\n",
      "10\n"
     ]
    }
   ],
   "source": [
    "def countDevisors(g, j, k): \n",
    "    count = 0\n",
    "    for i in range (g, j+1):\n",
    "\n",
    "        if i % k  == 0:\n",
    "            count = count + 1\n",
    "    print(count)\n",
    "    return\n",
    "s = input()\n",
    "s = s.split()\n",
    "g = int(s[0])\n",
    "j = int(s[1])\n",
    "k = int(s[2])\n",
    "countDevisors(g, j, k)"
   ]
  },
  {
   "cell_type": "markdown",
   "metadata": {},
   "source": [
    "# 6.Factorial!\n",
    "\n",
    "#### You have been given a positive integer N. You need to find and print the Factorial of this number. The Factorial of a positive integer N refers to the product of all number in the range from 1 to N. You can read more about the factorial of a number here.\n",
    "\n",
    "- Input Format:\n",
    "- The first and only line of the input contains a single integer N denoting the number whose factorial you need to find.\n",
    "\n",
    "- Output Format\n",
    "- Output a single line denoting the factorial of the number N.\n",
    "\n",
    "- Constraints 1<=N<=10\n",
    "\n",
    "- i/p:- 2           \n",
    "- o/p:- 2"
   ]
  },
  {
   "cell_type": "code",
   "execution_count": 6,
   "metadata": {},
   "outputs": [
    {
     "name": "stdout",
     "output_type": "stream",
     "text": [
      "2\n",
      "2\n"
     ]
    }
   ],
   "source": [
    "def fact(n):\n",
    "    fact = 1\n",
    "    for i in range (1,n+1):\n",
    "        fact = fact*i\n",
    "    print(fact)\n",
    "    return\n",
    "n=int(input())\n",
    "fact(n)\n",
    "        "
   ]
  },
  {
   "cell_type": "markdown",
   "metadata": {},
   "source": [
    "# 7.Toggle String\n",
    "\n",
    "#### You have been given a String S consisting of uppercase and lowercase English alphabets. You need to change the case of each alphabet in this String. That is, all the uppercase letters should be converted to lowercase and all the lowercase letters should be converted to uppercase. You need to then print the resultant String to output.\n",
    "\n",
    "- Input Format\n",
    "- The first and only line of input contains the String S\n",
    "\n",
    "- Output Format\n",
    "- Print the resultant String on a single line.\n",
    "\n",
    "- Constraints 1<= S <= 100 (where 's' denotes length of the string)\n",
    "\n",
    "- i/p:- aBcD    \n",
    "- o/p:- AbCd\n",
    "\n"
   ]
  },
  {
   "cell_type": "code",
   "execution_count": 7,
   "metadata": {},
   "outputs": [
    {
     "name": "stdout",
     "output_type": "stream",
     "text": [
      "acVGhjB\n",
      "ACvgHJb"
     ]
    }
   ],
   "source": [
    "def toggle(s):\n",
    "    for i in s:\n",
    "        if i == i.upper():\n",
    "            n = i.lower()\n",
    "        elif i == i.lower():\n",
    "            n = i.upper()\n",
    "        print(n, end = \"\")\n",
    "s = input()\n",
    "toggle(s)\n"
   ]
  },
  {
   "cell_type": "markdown",
   "metadata": {},
   "source": [
    "# 8.Roy and Profile Picture\n",
    "\n",
    "#### Roy wants to change his profile picture on Facebook. Now Facebook has some restriction over the dimension of picture that we can upload.\n",
    "- Minimum dimension of the picture can be L x L, where L is the length of the side of square.\n",
    "\n",
    "- Now Roy has N photos of various dimensions.\n",
    "- Dimension of a photo is denoted as W x H \n",
    "- where W - width of the photo and H - Height of the photo\n",
    "\n",
    "- When any photo is uploaded following events may occur:\n",
    "\n",
    "- [1] If any of the width or height is less than L, user is prompted to upload another one. Print \"UPLOAD ANOTHER\" in this case.\n",
    "- [2] If width and height, both are large enough and \n",
    "- (a) if the photo is already square then it is accepted. Print \"ACCEPTED\" in this case.\n",
    "- (b) else user is prompted to crop it. Print \"CROP IT\" in this case.\n",
    "\n",
    "- (quotes are only for clarification)\n",
    "\n",
    "- Given L, N, W and H as input, print appropriate text as output.\n",
    "\n",
    "- Input:\n",
    "- First line contains L.\n",
    "- Second line contains N, number of photos.\n",
    "- Following N lines each contains two space separated integers W and H.\n",
    "\n",
    "- Output:\n",
    "- Print appropriate text for each photo in a new line.\n",
    "\n",
    "- Constraints:\n",
    "- 1 <= L,W,H <= 10000\n",
    "- 1 <= N <= 1000\n",
    "\n",
    "- i/p:- 180\n",
    "        3\n",
    "        640 480\n",
    "        120 300\n",
    "        180 180"
   ]
  },
  {
   "cell_type": "code",
   "execution_count": null,
   "metadata": {},
   "outputs": [],
   "source": []
  },
  {
   "cell_type": "code",
   "execution_count": null,
   "metadata": {},
   "outputs": [],
   "source": []
  }
 ],
 "metadata": {
  "kernelspec": {
   "display_name": "Python 3",
   "language": "python",
   "name": "python3"
  },
  "language_info": {
   "codemirror_mode": {
    "name": "ipython",
    "version": 3
   },
   "file_extension": ".py",
   "mimetype": "text/x-python",
   "name": "python",
   "nbconvert_exporter": "python",
   "pygments_lexer": "ipython3",
   "version": "3.7.3"
  }
 },
 "nbformat": 4,
 "nbformat_minor": 2
}
